{
 "cells": [
  {
   "cell_type": "code",
   "execution_count": null,
   "metadata": {},
   "outputs": [],
   "source": [
    "                                 # Transporte de Coordenadas #\n",
    "                                        # 1 Ten Zamith #"
   ]
  },
  {
   "cell_type": "code",
   "execution_count": 5,
   "metadata": {},
   "outputs": [],
   "source": [
    "from geographiclib.geodesic import Geodesic # importando biblioteca do Artigo do  Karney (2013)\n",
    "import math\n",
    "geod = Geodesic.WGS84  # definindo o WGS84 , por default ele é WGS84\n",
    "geod.a, 1/geod.f\n",
    "\n",
    "P1=(-22.11990474,-51.40853403) # coordenada P1\n",
    "P2=(-21.46160445,-51.55425737) # coordenada P2"
   ]
  },
  {
   "cell_type": "code",
   "execution_count": null,
   "metadata": {},
   "outputs": [],
   "source": [
    "                                # Calculo PD  e  PI - Karney (2013) #"
   ]
  },
  {
   "cell_type": "code",
   "execution_count": 13,
   "metadata": {},
   "outputs": [
    {
     "data": {
      "text/plain": [
       "{'lat1': -22.11990474,\n",
       " 'lon1': -51.4085340321,\n",
       " 'lat2': -21.46160445,\n",
       " 'lon2': -51.55425737,\n",
       " 'a12': 0.6705860464576745,\n",
       " 's12': 74433.35476768378,\n",
       " 'azi1': -11.707885828611499,\n",
       " 'azi2': -11.653789780076073}"
      ]
     },
     "execution_count": 13,
     "metadata": {},
     "output_type": "execute_result"
    }
   ],
   "source": [
    "geod.Inverse(-22.11990474,-51.4085340321,-21.46160445,-51.55425737)\n",
    "# calculo PI Método de Karney (2013)"
   ]
  },
  {
   "cell_type": "code",
   "execution_count": 11,
   "metadata": {},
   "outputs": [
    {
     "data": {
      "text/plain": [
       "{'lat1': -22.11990474,\n",
       " 'lon1': -51.40853403,\n",
       " 'azi1': -11.70788599270709,\n",
       " 's12': 74433.35481165003,\n",
       " 'a12': 0.6705860468537759,\n",
       " 'lat2': -21.461604450000006,\n",
       " 'lon2': -51.55425737,\n",
       " 'azi2': -11.65378994339209}"
      ]
     },
     "execution_count": 11,
     "metadata": {},
     "output_type": "execute_result"
    }
   ],
   "source": [
    "geod.Direct(-22.11990474,-51.40853403,-11.70788599270709,74433.35481165003)\n",
    "# calculo PD Método de Karney (2013)"
   ]
  }
 ],
 "metadata": {
  "kernelspec": {
   "display_name": "Python 3",
   "language": "python",
   "name": "python3"
  },
  "language_info": {
   "codemirror_mode": {
    "name": "ipython",
    "version": 3
   },
   "file_extension": ".py",
   "mimetype": "text/x-python",
   "name": "python",
   "nbconvert_exporter": "python",
   "pygments_lexer": "ipython3",
   "version": "3.7.4"
  }
 },
 "nbformat": 4,
 "nbformat_minor": 2
}

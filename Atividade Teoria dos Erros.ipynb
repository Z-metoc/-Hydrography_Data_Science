{
 "cells": [
  {
   "cell_type": "code",
   "execution_count": 1,
   "metadata": {},
   "outputs": [],
   "source": [
    "  # ATIVIDADE TEORIA DOS ERROS #"
   ]
  },
  {
   "cell_type": "code",
   "execution_count": 2,
   "metadata": {},
   "outputs": [],
   "source": [
    "# IMPORTANDO LIBS \n",
    "import numpy as np\n",
    "import matplotlib.pyplot as plt\n",
    "import pandas as pd\n",
    "\n",
    "\n"
   ]
  },
  {
   "cell_type": "code",
   "execution_count": 3,
   "metadata": {},
   "outputs": [
    {
     "name": "stdout",
     "output_type": "stream",
     "text": [
      "['atividade_tde.csv']\n"
     ]
    }
   ],
   "source": [
    "#CRIEI UM ARQUIVO .XLSX E IMPORTEI COMO DATAFRAME DE DADOS\n",
    "file=\"/Users/thiagozamith/Desktop/atividade_tde.xlsx\"\n",
    "data = pd.ExcelFile(file)\n",
    "print(data.sheet_names)\n"
   ]
  },
  {
   "cell_type": "code",
   "execution_count": 4,
   "metadata": {},
   "outputs": [
    {
     "data": {
      "text/html": [
       "<div>\n",
       "<style scoped>\n",
       "    .dataframe tbody tr th:only-of-type {\n",
       "        vertical-align: middle;\n",
       "    }\n",
       "\n",
       "    .dataframe tbody tr th {\n",
       "        vertical-align: top;\n",
       "    }\n",
       "\n",
       "    .dataframe thead th {\n",
       "        text-align: right;\n",
       "    }\n",
       "</style>\n",
       "<table border=\"1\" class=\"dataframe\">\n",
       "  <thead>\n",
       "    <tr style=\"text-align: right;\">\n",
       "      <th></th>\n",
       "      <th>MEDIÇÕES</th>\n",
       "    </tr>\n",
       "  </thead>\n",
       "  <tbody>\n",
       "    <tr>\n",
       "      <td>0</td>\n",
       "      <td>13.10</td>\n",
       "    </tr>\n",
       "    <tr>\n",
       "      <td>1</td>\n",
       "      <td>13.55</td>\n",
       "    </tr>\n",
       "    <tr>\n",
       "      <td>2</td>\n",
       "      <td>13.44</td>\n",
       "    </tr>\n",
       "    <tr>\n",
       "      <td>3</td>\n",
       "      <td>13.98</td>\n",
       "    </tr>\n",
       "    <tr>\n",
       "      <td>4</td>\n",
       "      <td>13.20</td>\n",
       "    </tr>\n",
       "    <tr>\n",
       "      <td>5</td>\n",
       "      <td>13.70</td>\n",
       "    </tr>\n",
       "    <tr>\n",
       "      <td>6</td>\n",
       "      <td>13.98</td>\n",
       "    </tr>\n",
       "    <tr>\n",
       "      <td>7</td>\n",
       "      <td>13.63</td>\n",
       "    </tr>\n",
       "    <tr>\n",
       "      <td>8</td>\n",
       "      <td>13.37</td>\n",
       "    </tr>\n",
       "    <tr>\n",
       "      <td>9</td>\n",
       "      <td>13.61</td>\n",
       "    </tr>\n",
       "  </tbody>\n",
       "</table>\n",
       "</div>"
      ],
      "text/plain": [
       "   MEDIÇÕES\n",
       "0     13.10\n",
       "1     13.55\n",
       "2     13.44\n",
       "3     13.98\n",
       "4     13.20\n",
       "5     13.70\n",
       "6     13.98\n",
       "7     13.63\n",
       "8     13.37\n",
       "9     13.61"
      ]
     },
     "execution_count": 4,
     "metadata": {},
     "output_type": "execute_result"
    }
   ],
   "source": [
    "df1 = data.parse(0)\n",
    "df1"
   ]
  },
  {
   "cell_type": "code",
   "execution_count": 5,
   "metadata": {},
   "outputs": [],
   "source": [
    "# CALCULANDO ESTIMADORES,INCERTEZAS E ERRO #\n"
   ]
  },
  {
   "cell_type": "code",
   "execution_count": 6,
   "metadata": {},
   "outputs": [
    {
     "data": {
      "text/plain": [
       "MEDIÇÕES    13.556\n",
       "dtype: float64"
      ]
     },
     "execution_count": 6,
     "metadata": {},
     "output_type": "execute_result"
    }
   ],
   "source": [
    "# MÉDIA #\n",
    "media=df1.mean()\n",
    "media # Observe que 13.556 temos 5 algarismos significativos \n",
    "#interessante  permanecermos com a mesma\n",
    "#quantidade de algarismos significativos da medição\n",
    "\n",
    "# Média = 13.56cm (Arredondado) #"
   ]
  },
  {
   "cell_type": "code",
   "execution_count": 7,
   "metadata": {},
   "outputs": [
    {
     "data": {
      "text/plain": [
       "MEDIÇÕES    0.292772\n",
       "dtype: float64"
      ]
     },
     "execution_count": 7,
     "metadata": {},
     "output_type": "execute_result"
    }
   ],
   "source": [
    "# DESVIO PADRAO\n",
    "desv_padrao=df1.std()\n",
    "desv_padrao=0.29\n",
    "# Analogamente na questao dos algarismos \n",
    "#Desvio padrao das medidas = 0.29 cm"
   ]
  },
  {
   "cell_type": "code",
   "execution_count": 30,
   "metadata": {},
   "outputs": [],
   "source": [
    "#INCERTEZA PADRAO TIPO A\n",
    "\n",
    "desv_padrao_da_media= (desv_padrao/(len(df1))**0.5 )\n",
    "Ua=desv_padrao_da_media\n",
    "# Analogamente mantendo 4 algarismos significativos\n",
    "#Desvio Padrao da Media = 0.09 cm\n",
    "#observe que ela é menor que o desvio padrao das medidas \n",
    "#é mais refinado\n"
   ]
  },
  {
   "cell_type": "code",
   "execution_count": 31,
   "metadata": {},
   "outputs": [],
   "source": [
    "#INCERTEZA PADRAO TIBO B (NOMINAL)#\n",
    "\n",
    "# Para valores de influencia  adotei a metade \n",
    "#da escala minima da regua Ub= 0.05 cm\n",
    "Ub=0.05 \n"
   ]
  },
  {
   "cell_type": "code",
   "execution_count": 32,
   "metadata": {},
   "outputs": [],
   "source": [
    "# INCERTEZA COMBINADA \n",
    "#DADA PELA RAIZ QUADRADA DA SOMA QUADRATICA DAS  INCERTEZAS TIPO A E B\n",
    "Uc= (Ub**2 + Ua**2)**0.5\n",
    "# Incerteza Combinada = 0.10"
   ]
  },
  {
   "cell_type": "code",
   "execution_count": 33,
   "metadata": {},
   "outputs": [
    {
     "data": {
      "text/plain": [
       "MEDIÇÕES    0.776198\n",
       "dtype: float64"
      ]
     },
     "execution_count": 33,
     "metadata": {},
     "output_type": "execute_result"
    }
   ],
   "source": [
    "# INCERTEZA RELATIVA \n",
    "In_rel=(Uc/media) * 100\n",
    "In_rel\n",
    "# Incerteza Relativa = 77.61 % # "
   ]
  },
  {
   "cell_type": "code",
   "execution_count": 34,
   "metadata": {},
   "outputs": [],
   "source": [
    "# EM TERMOS DE INCERTEZA TIPO A POSSO ESCREVER QUE \n",
    "#RESULTADO FINAL = (13.56 +- 0.09) [cm] #  \n",
    "#EM TERMOS DE INCERTEZA COMBINADA\n",
    "#RESULTADO FINAL = (13.56 +- 0.1) [cm]  #"
   ]
  },
  {
   "cell_type": "code",
   "execution_count": 29,
   "metadata": {},
   "outputs": [
    {
     "data": {
      "text/plain": [
       "array([[<matplotlib.axes._subplots.AxesSubplot object at 0x11fe65e10>]],\n",
       "      dtype=object)"
      ]
     },
     "execution_count": 29,
     "metadata": {},
     "output_type": "execute_result"
    },
    {
     "data": {
      "image/png": "[encoded data removed]",
      "text/plain": [
       "<Figure size 432x288 with 1 Axes>"
      ]
     },
     "metadata": {
      "needs_background": "light"
     },
     "output_type": "display_data"
    }
   ],
   "source": [
    "# HISTOGRAMA #\n",
    "\n",
    "# Observe que a quantidade de medições é pequena para \n",
    "#se tirar uma conclusão mais sólida de como a distribuição \n",
    "# das medições vai se comportar.\n",
    "\n",
    "df1.hist(\"MEDIÇÕES\")\n",
    "\n"
   ]
  },
  {
   "cell_type": "code",
   "execution_count": null,
   "metadata": {},
   "outputs": [],
   "source": []
  }
 ],
 "metadata": {
  "kernelspec": {
   "display_name": "Python 3",
   "language": "python",
   "name": "python3"
  },
  "language_info": {
   "codemirror_mode": {
    "name": "ipython",
    "version": 3
   },
   "file_extension": ".py",
   "mimetype": "text/x-python",
   "name": "python",
   "nbconvert_exporter": "python",
   "pygments_lexer": "ipython3",
   "version": "3.7.4"
  }
 },
 "nbformat": 4,
 "nbformat_minor": 2
}
